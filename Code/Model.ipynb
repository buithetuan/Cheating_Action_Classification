{
 "cells": [
  {
   "cell_type": "markdown",
   "id": "e8135562-7bb2-4114-aaa7-d7cf1d0e1ae7",
   "metadata": {},
   "source": [
    "## Mô hình\n"
   ]
  },
  {
   "cell_type": "code",
   "execution_count": 1,
   "id": "16eb3296-adde-4c1a-976d-f9f0d48cc568",
   "metadata": {
    "tags": [],
    "ExecuteTime": {
     "end_time": "2023-10-24T12:47:42.497252Z",
     "start_time": "2023-10-24T12:47:31.482748Z"
    }
   },
   "outputs": [],
   "source": [
    "import cv2\n",
    "import numpy as np\n",
    "from keras.models import Sequential\n",
    "from keras.layers import Conv2D, MaxPooling2D, Flatten, Dense\n",
    "from keras.preprocessing.image import ImageDataGenerator\n",
    "from keras.callbacks import ModelCheckpoint\n",
    "from keras.optimizers import Adam"
   ]
  },
  {
   "cell_type": "code",
   "execution_count": 2,
   "id": "89e8717b-3a13-4bef-b825-8060c703f6ee",
   "metadata": {
    "tags": [],
    "ExecuteTime": {
     "end_time": "2023-10-24T12:47:42.635416300Z",
     "start_time": "2023-10-24T12:47:42.502240100Z"
    }
   },
   "outputs": [],
   "source": [
    "# Initialize the model\n",
    "model = Sequential()\n"
   ]
  },
  {
   "cell_type": "code",
   "execution_count": 3,
   "id": "dbcda0bf-911c-43c6-9508-160df8ab090d",
   "metadata": {
    "tags": [],
    "ExecuteTime": {
     "end_time": "2023-10-24T12:47:42.774362700Z",
     "start_time": "2023-10-24T12:47:42.641455900Z"
    }
   },
   "outputs": [],
   "source": [
    "# Add Convolutional layers\n",
    "model.add(Conv2D(32, (7, 7), input_shape=(256, 256, 3), activation='relu'))\n",
    "model.add(MaxPooling2D(pool_size=(2, 2)))\n",
    "\n",
    "model.add(Conv2D(64, (7, 7), activation='relu'))\n",
    "model.add(MaxPooling2D(pool_size=(2, 2)))\n",
    "\n",
    "model.add(Conv2D(128, (7, 7), activation='relu'))\n",
    "model.add(MaxPooling2D(pool_size=(2, 2)))\n",
    "\n"
   ]
  },
  {
   "cell_type": "code",
   "execution_count": 4,
   "id": "48d89d4f-60f2-4f61-9d5a-7f6300943dc6",
   "metadata": {
    "tags": [],
    "ExecuteTime": {
     "end_time": "2023-10-24T12:47:42.798162900Z",
     "start_time": "2023-10-24T12:47:42.781820100Z"
    }
   },
   "outputs": [],
   "source": [
    "# Flatten the layers\n",
    "model.add(Flatten())\n"
   ]
  },
  {
   "cell_type": "code",
   "execution_count": 5,
   "id": "765a406e-8b86-4ffe-9239-28b803aa7e60",
   "metadata": {
    "tags": [],
    "ExecuteTime": {
     "end_time": "2023-10-24T12:47:42.971381500Z",
     "start_time": "2023-10-24T12:47:42.808300500Z"
    }
   },
   "outputs": [],
   "source": [
    "# Add Fully Connected layers\n",
    "model.add(Dense(128, activation='relu'))\n",
    "model.add(Dense(1, activation='sigmoid'))\n"
   ]
  },
  {
   "cell_type": "code",
   "execution_count": 6,
   "id": "a32900dc-1093-4cda-985b-cbd460c3df38",
   "metadata": {
    "tags": [],
    "ExecuteTime": {
     "end_time": "2023-10-24T12:47:43.024398800Z",
     "start_time": "2023-10-24T12:47:42.976461100Z"
    }
   },
   "outputs": [],
   "source": [
    "# Compile the model\n",
    "model.compile(optimizer=Adam(learning_rate=0.001), loss='binary_crossentropy', metrics=['accuracy'])\n",
    "\n"
   ]
  },
  {
   "cell_type": "code",
   "execution_count": 7,
   "id": "5b631307-7a7a-4ff6-9a3f-2770fb628bbd",
   "metadata": {
    "tags": [],
    "ExecuteTime": {
     "end_time": "2023-10-24T12:47:43.024398800Z",
     "start_time": "2023-10-24T12:47:43.012386900Z"
    }
   },
   "outputs": [],
   "source": [
    "# Data Augmentation\n",
    "train_datagen = ImageDataGenerator(\n",
    "    rescale=1.0/255,\n",
    "    shear_range=0.2,\n",
    "    zoom_range=0.2,\n",
    "    horizontal_flip=True\n",
    ")\n",
    "\n",
    "test_datagen = ImageDataGenerator(rescale=1.0/255)\n",
    "\n"
   ]
  },
  {
   "cell_type": "code",
   "execution_count": 8,
   "id": "abb2705d-adb7-42c5-ae91-c9d85128888e",
   "metadata": {
    "tags": [],
    "ExecuteTime": {
     "end_time": "2023-10-24T12:47:43.278203600Z",
     "start_time": "2023-10-24T12:47:43.024398800Z"
    }
   },
   "outputs": [
    {
     "name": "stdout",
     "output_type": "stream",
     "text": [
      "Found 178 images belonging to 2 classes.\n",
      "Found 85 images belonging to 3 classes.\n"
     ]
    }
   ],
   "source": [
    "# Load the training and test data\n",
    "train_data = train_datagen.flow_from_directory('D:/Project_DAP391m_group2/Data/total_dataset/train',\n",
    "                                              target_size=(256, 256),\n",
    "                                              batch_size=32,\n",
    "                                              class_mode='binary')\n",
    "\n",
    "test_data = test_datagen.flow_from_directory('D:/Project_DAP391m_group2/Data/total_dataset/test',\n",
    "                                            target_size=(256, 256),\n",
    "                                            batch_size=32,\n",
    "                                            class_mode='binary')\n",
    "\n"
   ]
  },
  {
   "cell_type": "code",
   "execution_count": null,
   "id": "0e0fb6e3-ad08-4883-ae13-ef736cf6b3e0",
   "metadata": {
    "tags": [],
    "is_executing": true,
    "ExecuteTime": {
     "start_time": "2023-10-24T12:47:54.636381300Z"
    }
   },
   "outputs": [
    {
     "name": "stdout",
     "output_type": "stream",
     "text": [
      "Epoch 1/500\n",
      "6/6 [==============================] - 64s 10s/step - loss: 0.9981 - accuracy: 0.4663 - val_loss: 0.6666 - val_accuracy: 0.3294\n",
      "Epoch 2/500\n",
      "6/6 [==============================] - 42s 7s/step - loss: 0.7241 - accuracy: 0.5899 - val_loss: 0.4667 - val_accuracy: 0.2824\n",
      "Epoch 3/500\n",
      "6/6 [==============================] - 36s 6s/step - loss: 0.6516 - accuracy: 0.6292 - val_loss: 0.2445 - val_accuracy: 0.2000\n",
      "Epoch 4/500\n",
      "6/6 [==============================] - 38s 6s/step - loss: 0.6505 - accuracy: 0.6404 - val_loss: 0.6954 - val_accuracy: 0.0471\n",
      "Epoch 5/500\n",
      "6/6 [==============================] - 35s 6s/step - loss: 0.6442 - accuracy: 0.6011 - val_loss: 0.9236 - val_accuracy: 0.0235\n",
      "Epoch 6/500\n",
      "6/6 [==============================] - 41s 7s/step - loss: 0.6391 - accuracy: 0.6124 - val_loss: 0.5537 - val_accuracy: 0.0471\n",
      "Epoch 7/500\n",
      "6/6 [==============================] - 34s 6s/step - loss: 0.6112 - accuracy: 0.6180 - val_loss: 0.7582 - val_accuracy: 0.0471\n",
      "Epoch 8/500\n",
      "6/6 [==============================] - 35s 6s/step - loss: 0.6079 - accuracy: 0.6517 - val_loss: 0.5924 - val_accuracy: 0.0706\n",
      "Epoch 9/500\n",
      "6/6 [==============================] - 42s 7s/step - loss: 0.5927 - accuracy: 0.6461 - val_loss: 0.1904 - val_accuracy: 0.2235\n",
      "Epoch 10/500\n",
      "6/6 [==============================] - 42s 7s/step - loss: 0.5795 - accuracy: 0.6629 - val_loss: 0.5519 - val_accuracy: 0.0706\n",
      "Epoch 11/500\n",
      "6/6 [==============================] - 46s 8s/step - loss: 0.5827 - accuracy: 0.6404 - val_loss: 0.5384 - val_accuracy: 0.0941\n",
      "Epoch 12/500\n",
      "6/6 [==============================] - 50s 8s/step - loss: 0.5835 - accuracy: 0.6966 - val_loss: 0.8164 - val_accuracy: 0.0118\n",
      "Epoch 13/500\n",
      "6/6 [==============================] - 40s 6s/step - loss: 0.6161 - accuracy: 0.6292 - val_loss: 0.3529 - val_accuracy: 0.1412\n",
      "Epoch 14/500\n",
      "6/6 [==============================] - 38s 6s/step - loss: 0.5864 - accuracy: 0.6573 - val_loss: 0.7073 - val_accuracy: 0.0118\n",
      "Epoch 15/500\n",
      "6/6 [==============================] - 37s 6s/step - loss: 0.5962 - accuracy: 0.6292 - val_loss: 0.5770 - val_accuracy: 0.0588\n",
      "Epoch 16/500\n",
      "6/6 [==============================] - 35s 6s/step - loss: 0.5859 - accuracy: 0.6629 - val_loss: 0.0417 - val_accuracy: 0.2353\n",
      "Epoch 17/500\n",
      "6/6 [==============================] - 36s 6s/step - loss: 0.5850 - accuracy: 0.7022 - val_loss: 0.1726 - val_accuracy: 0.1765\n",
      "Epoch 18/500\n",
      "6/6 [==============================] - 35s 6s/step - loss: 0.5747 - accuracy: 0.6854 - val_loss: 0.0640 - val_accuracy: 0.1529\n",
      "Epoch 19/500\n",
      "6/6 [==============================] - 35s 6s/step - loss: 0.5937 - accuracy: 0.6685 - val_loss: 0.4495 - val_accuracy: 0.0706\n",
      "Epoch 20/500\n",
      "6/6 [==============================] - 40s 7s/step - loss: 0.5759 - accuracy: 0.6517 - val_loss: 0.6118 - val_accuracy: 0.0235\n",
      "Epoch 21/500\n",
      "6/6 [==============================] - 36s 6s/step - loss: 0.5730 - accuracy: 0.6910 - val_loss: 0.0796 - val_accuracy: 0.1647\n",
      "Epoch 22/500\n",
      "6/6 [==============================] - 34s 6s/step - loss: 0.5740 - accuracy: 0.7247 - val_loss: 0.4326 - val_accuracy: 0.1059\n",
      "Epoch 23/500\n",
      "6/6 [==============================] - 48s 9s/step - loss: 0.5761 - accuracy: 0.6461 - val_loss: 0.6482 - val_accuracy: 0.0706\n",
      "Epoch 24/500\n",
      "6/6 [==============================] - 45s 7s/step - loss: 0.5733 - accuracy: 0.6573 - val_loss: 0.0088 - val_accuracy: 0.1765\n",
      "Epoch 25/500\n",
      "6/6 [==============================] - 39s 6s/step - loss: 0.5657 - accuracy: 0.7022 - val_loss: -0.0499 - val_accuracy: 0.1529\n",
      "Epoch 26/500\n",
      "6/6 [==============================] - 36s 6s/step - loss: 0.5404 - accuracy: 0.7528 - val_loss: 0.0508 - val_accuracy: 0.1294\n",
      "Epoch 27/500\n",
      "6/6 [==============================] - 38s 6s/step - loss: 0.5726 - accuracy: 0.7022 - val_loss: -0.1124 - val_accuracy: 0.1412\n",
      "Epoch 28/500\n",
      "6/6 [==============================] - 42s 7s/step - loss: 0.5421 - accuracy: 0.7079 - val_loss: 0.3879 - val_accuracy: 0.0824\n",
      "Epoch 29/500\n",
      "6/6 [==============================] - 41s 7s/step - loss: 0.5246 - accuracy: 0.7416 - val_loss: 0.0635 - val_accuracy: 0.1059\n",
      "Epoch 30/500\n",
      "6/6 [==============================] - 40s 6s/step - loss: 0.6712 - accuracy: 0.6348 - val_loss: -1.0459 - val_accuracy: 0.1882\n",
      "Epoch 31/500\n",
      "6/6 [==============================] - 47s 8s/step - loss: 0.5986 - accuracy: 0.7079 - val_loss: -1.0496 - val_accuracy: 0.2588\n",
      "Epoch 32/500\n",
      "6/6 [==============================] - 38s 6s/step - loss: 0.5608 - accuracy: 0.6685 - val_loss: -0.0110 - val_accuracy: 0.0824\n",
      "Epoch 33/500\n",
      "6/6 [==============================] - 39s 6s/step - loss: 0.6176 - accuracy: 0.7022 - val_loss: -0.7518 - val_accuracy: 0.1647\n",
      "Epoch 34/500\n",
      "6/6 [==============================] - 38s 6s/step - loss: 0.5938 - accuracy: 0.6404 - val_loss: 0.4665 - val_accuracy: 0.0706\n",
      "Epoch 35/500\n",
      "6/6 [==============================] - 38s 6s/step - loss: 0.6078 - accuracy: 0.6798 - val_loss: 0.5057 - val_accuracy: 0.0235\n",
      "Epoch 36/500\n",
      "6/6 [==============================] - 38s 6s/step - loss: 0.5930 - accuracy: 0.6404 - val_loss: 1.2248 - val_accuracy: 0.0000e+00\n",
      "Epoch 37/500\n",
      "6/6 [==============================] - 38s 7s/step - loss: 0.6008 - accuracy: 0.6292 - val_loss: -0.3787 - val_accuracy: 0.2235\n",
      "Epoch 38/500\n",
      "6/6 [==============================] - 38s 6s/step - loss: 0.5931 - accuracy: 0.6629 - val_loss: 0.2652 - val_accuracy: 0.0471\n",
      "Epoch 39/500\n",
      "6/6 [==============================] - 39s 6s/step - loss: 0.5527 - accuracy: 0.6910 - val_loss: -0.5476 - val_accuracy: 0.2588\n",
      "Epoch 40/500\n",
      "6/6 [==============================] - 40s 6s/step - loss: 0.5775 - accuracy: 0.6461 - val_loss: 0.0011 - val_accuracy: 0.1882\n",
      "Epoch 41/500\n",
      "6/6 [==============================] - 39s 6s/step - loss: 0.5623 - accuracy: 0.7247 - val_loss: 0.4091 - val_accuracy: 0.1059\n",
      "Epoch 42/500\n",
      "6/6 [==============================] - 37s 7s/step - loss: 0.5566 - accuracy: 0.7079 - val_loss: 0.1779 - val_accuracy: 0.1412\n",
      "Epoch 43/500\n",
      "6/6 [==============================] - 39s 6s/step - loss: 0.5557 - accuracy: 0.7135 - val_loss: 0.0825 - val_accuracy: 0.1294\n",
      "Epoch 44/500\n",
      "6/6 [==============================] - 45s 7s/step - loss: 0.5567 - accuracy: 0.7191 - val_loss: -0.3836 - val_accuracy: 0.1647\n",
      "Epoch 45/500\n",
      "6/6 [==============================] - 39s 6s/step - loss: 0.5362 - accuracy: 0.7303 - val_loss: -0.3897 - val_accuracy: 0.1882\n",
      "Epoch 46/500\n",
      "6/6 [==============================] - 40s 7s/step - loss: 0.5526 - accuracy: 0.7022 - val_loss: -0.2593 - val_accuracy: 0.1412\n",
      "Epoch 47/500\n",
      "6/6 [==============================] - 40s 7s/step - loss: 0.5305 - accuracy: 0.7528 - val_loss: -0.4991 - val_accuracy: 0.1412\n",
      "Epoch 48/500\n",
      "6/6 [==============================] - 40s 6s/step - loss: 0.5031 - accuracy: 0.7528 - val_loss: -0.1993 - val_accuracy: 0.1294\n",
      "Epoch 49/500\n",
      "6/6 [==============================] - 37s 6s/step - loss: 0.5262 - accuracy: 0.7191 - val_loss: -0.4032 - val_accuracy: 0.1412\n",
      "Epoch 50/500\n",
      "6/6 [==============================] - 39s 6s/step - loss: 0.5144 - accuracy: 0.6966 - val_loss: -0.2998 - val_accuracy: 0.1176\n",
      "Epoch 51/500\n",
      "6/6 [==============================] - 37s 6s/step - loss: 0.5489 - accuracy: 0.7191 - val_loss: -1.0957 - val_accuracy: 0.1647\n",
      "Epoch 52/500\n",
      "6/6 [==============================] - 37s 6s/step - loss: 0.5318 - accuracy: 0.7303 - val_loss: -0.5780 - val_accuracy: 0.1765\n",
      "Epoch 53/500\n",
      "6/6 [==============================] - 38s 6s/step - loss: 0.5155 - accuracy: 0.7247 - val_loss: 0.5522 - val_accuracy: 0.0000e+00\n",
      "Epoch 54/500\n",
      "6/6 [==============================] - 39s 6s/step - loss: 0.4966 - accuracy: 0.7303 - val_loss: -0.0633 - val_accuracy: 0.0706\n",
      "Epoch 55/500\n",
      "6/6 [==============================] - 39s 6s/step - loss: 0.4634 - accuracy: 0.7640 - val_loss: 0.2800 - val_accuracy: 0.0824\n",
      "Epoch 56/500\n",
      "6/6 [==============================] - 39s 6s/step - loss: 0.4800 - accuracy: 0.7753 - val_loss: 0.1183 - val_accuracy: 0.0706\n",
      "Epoch 57/500\n",
      "6/6 [==============================] - 38s 6s/step - loss: 0.5129 - accuracy: 0.6966 - val_loss: 0.5217 - val_accuracy: 0.0471\n",
      "Epoch 58/500\n",
      "6/6 [==============================] - 36s 6s/step - loss: 0.4816 - accuracy: 0.7472 - val_loss: -0.1681 - val_accuracy: 0.1529\n",
      "Epoch 59/500\n",
      "6/6 [==============================] - 38s 6s/step - loss: 0.5024 - accuracy: 0.7247 - val_loss: 0.5474 - val_accuracy: 0.0353\n",
      "Epoch 60/500\n",
      "6/6 [==============================] - 39s 6s/step - loss: 0.4758 - accuracy: 0.7584 - val_loss: 0.1092 - val_accuracy: 0.0706\n",
      "Epoch 61/500\n",
      "6/6 [==============================] - 38s 7s/step - loss: 0.4500 - accuracy: 0.7472 - val_loss: -0.2616 - val_accuracy: 0.0706\n",
      "Epoch 62/500\n",
      "6/6 [==============================] - 38s 6s/step - loss: 0.4489 - accuracy: 0.7978 - val_loss: -0.0289 - val_accuracy: 0.0353\n",
      "Epoch 63/500\n",
      "6/6 [==============================] - 38s 6s/step - loss: 0.4314 - accuracy: 0.7865 - val_loss: 0.1549 - val_accuracy: 0.0118\n",
      "Epoch 64/500\n",
      "6/6 [==============================] - 37s 6s/step - loss: 0.4264 - accuracy: 0.8034 - val_loss: -1.1653 - val_accuracy: 0.1647\n",
      "Epoch 65/500\n",
      "6/6 [==============================] - 38s 6s/step - loss: 0.4465 - accuracy: 0.7697 - val_loss: -0.2467 - val_accuracy: 0.0588\n",
      "Epoch 66/500\n",
      "6/6 [==============================] - 38s 7s/step - loss: 0.4470 - accuracy: 0.8034 - val_loss: -0.3132 - val_accuracy: 0.0941\n",
      "Epoch 67/500\n",
      "6/6 [==============================] - 37s 6s/step - loss: 0.4563 - accuracy: 0.7697 - val_loss: -0.0665 - val_accuracy: 0.0353\n",
      "Epoch 68/500\n",
      "6/6 [==============================] - 38s 6s/step - loss: 0.4126 - accuracy: 0.7921 - val_loss: -0.5946 - val_accuracy: 0.0471\n",
      "Epoch 69/500\n",
      "6/6 [==============================] - 38s 6s/step - loss: 0.3934 - accuracy: 0.8090 - val_loss: 0.1830 - val_accuracy: 0.0235\n",
      "Epoch 70/500\n",
      "6/6 [==============================] - 39s 7s/step - loss: 0.3798 - accuracy: 0.8034 - val_loss: -0.4474 - val_accuracy: 0.0471\n",
      "Epoch 71/500\n",
      "6/6 [==============================] - 37s 6s/step - loss: 0.3926 - accuracy: 0.8034 - val_loss: -0.7443 - val_accuracy: 0.0588\n",
      "Epoch 72/500\n",
      "6/6 [==============================] - 39s 6s/step - loss: 0.3455 - accuracy: 0.8371 - val_loss: -0.2291 - val_accuracy: 0.0235\n",
      "Epoch 73/500\n",
      "6/6 [==============================] - 37s 6s/step - loss: 0.3849 - accuracy: 0.8258 - val_loss: -1.2353 - val_accuracy: 0.0588\n",
      "Epoch 74/500\n",
      "6/6 [==============================] - 42s 7s/step - loss: 0.3267 - accuracy: 0.8596 - val_loss: -0.6871 - val_accuracy: 0.0353\n",
      "Epoch 75/500\n",
      "6/6 [==============================] - 38s 6s/step - loss: 0.3212 - accuracy: 0.8539 - val_loss: -0.4172 - val_accuracy: 0.0706\n",
      "Epoch 76/500\n",
      "6/6 [==============================] - 38s 6s/step - loss: 0.3305 - accuracy: 0.8146 - val_loss: -0.5300 - val_accuracy: 0.0118\n",
      "Epoch 77/500\n",
      "6/6 [==============================] - 37s 6s/step - loss: 0.3031 - accuracy: 0.8539 - val_loss: -2.1957 - val_accuracy: 0.0941\n",
      "Epoch 78/500\n",
      "6/6 [==============================] - 37s 6s/step - loss: 0.3733 - accuracy: 0.8090 - val_loss: -1.3507 - val_accuracy: 0.1412\n",
      "Epoch 79/500\n",
      "6/6 [==============================] - 37s 6s/step - loss: 0.3505 - accuracy: 0.8258 - val_loss: 0.2760 - val_accuracy: 0.0000e+00\n",
      "Epoch 80/500\n",
      "6/6 [==============================] - 38s 6s/step - loss: 0.3441 - accuracy: 0.8315 - val_loss: -1.0969 - val_accuracy: 0.0588\n",
      "Epoch 81/500\n",
      "6/6 [==============================] - 35s 6s/step - loss: 0.3382 - accuracy: 0.8427 - val_loss: -0.2734 - val_accuracy: 0.0118\n",
      "Epoch 82/500\n",
      "6/6 [==============================] - 36s 6s/step - loss: 0.2389 - accuracy: 0.8820 - val_loss: -0.5725 - val_accuracy: 0.0471\n",
      "Epoch 83/500\n",
      "6/6 [==============================] - 40s 7s/step - loss: 0.3222 - accuracy: 0.8483 - val_loss: 0.2365 - val_accuracy: 0.0000e+00\n",
      "Epoch 84/500\n",
      "6/6 [==============================] - 39s 6s/step - loss: 0.2779 - accuracy: 0.8596 - val_loss: -0.6222 - val_accuracy: 0.0000e+00\n",
      "Epoch 85/500\n",
      "6/6 [==============================] - 36s 6s/step - loss: 0.2890 - accuracy: 0.8820 - val_loss: -1.0854 - val_accuracy: 0.0118\n",
      "Epoch 86/500\n",
      "6/6 [==============================] - 37s 6s/step - loss: 0.2625 - accuracy: 0.8708 - val_loss: -0.0760 - val_accuracy: 0.0118\n",
      "Epoch 87/500\n",
      "6/6 [==============================] - 38s 6s/step - loss: 0.2881 - accuracy: 0.8427 - val_loss: -1.3385 - val_accuracy: 0.0588\n",
      "Epoch 88/500\n",
      "6/6 [==============================] - 39s 6s/step - loss: 0.2545 - accuracy: 0.8764 - val_loss: -0.5824 - val_accuracy: 0.0000e+00\n",
      "Epoch 89/500\n",
      "6/6 [==============================] - 38s 6s/step - loss: 0.2533 - accuracy: 0.8876 - val_loss: -0.2347 - val_accuracy: 0.0235\n",
      "Epoch 90/500\n",
      "6/6 [==============================] - 34s 6s/step - loss: 0.1974 - accuracy: 0.9326 - val_loss: -0.7891 - val_accuracy: 0.0235\n",
      "Epoch 91/500\n",
      "6/6 [==============================] - 35s 6s/step - loss: 0.2102 - accuracy: 0.9157 - val_loss: -0.9607 - val_accuracy: 0.0118\n",
      "Epoch 92/500\n",
      "6/6 [==============================] - 34s 6s/step - loss: 0.2322 - accuracy: 0.8876 - val_loss: -2.5636 - val_accuracy: 0.0353\n",
      "Epoch 93/500\n",
      "6/6 [==============================] - 36s 6s/step - loss: 0.2106 - accuracy: 0.9157 - val_loss: 0.4498 - val_accuracy: 0.0118\n",
      "Epoch 94/500\n",
      "6/6 [==============================] - 48s 8s/step - loss: 0.2365 - accuracy: 0.8708 - val_loss: -0.6181 - val_accuracy: 0.0353\n",
      "Epoch 95/500\n",
      "6/6 [==============================] - 37s 6s/step - loss: 0.1968 - accuracy: 0.9270 - val_loss: -0.6664 - val_accuracy: 0.0118\n",
      "Epoch 96/500\n",
      "6/6 [==============================] - 38s 6s/step - loss: 0.2598 - accuracy: 0.8596 - val_loss: -1.4106 - val_accuracy: 0.0000e+00\n",
      "Epoch 97/500\n",
      "6/6 [==============================] - 37s 6s/step - loss: 0.1868 - accuracy: 0.9157 - val_loss: -1.1114 - val_accuracy: 0.0118\n",
      "Epoch 98/500\n",
      "6/6 [==============================] - 36s 6s/step - loss: 0.2325 - accuracy: 0.9101 - val_loss: -1.0441 - val_accuracy: 0.0235\n",
      "Epoch 99/500\n",
      "6/6 [==============================] - 37s 6s/step - loss: 0.2042 - accuracy: 0.9101 - val_loss: -0.9121 - val_accuracy: 0.0118\n",
      "Epoch 100/500\n"
     ]
    }
   ],
   "source": [
    "# Train the model\n",
    "model.fit(train_data, epochs=500, validation_data=test_data)"
   ]
  },
  {
   "cell_type": "code",
   "execution_count": 14,
   "id": "fd304ff9-8adf-4208-a1a8-893983399e4b",
   "metadata": {
    "tags": []
   },
   "outputs": [],
   "source": [
    "# Save the trained model\n",
    "model.save('D:/Project_DAP391m_group2/cheating_detection_model.h5')"
   ]
  }
 ],
 "metadata": {
  "kernelspec": {
   "display_name": "Python 3 (ipykernel)",
   "language": "python",
   "name": "python3"
  },
  "language_info": {
   "codemirror_mode": {
    "name": "ipython",
    "version": 3
   },
   "file_extension": ".py",
   "mimetype": "text/x-python",
   "name": "python",
   "nbconvert_exporter": "python",
   "pygments_lexer": "ipython3",
   "version": "3.11.4"
  }
 },
 "nbformat": 4,
 "nbformat_minor": 5
}
