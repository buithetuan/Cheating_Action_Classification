{
 "cells": [
  {
   "cell_type": "code",
   "execution_count": 1,
   "id": "9f4fa588-ab04-4cfb-b141-75acaf1d0e6d",
   "metadata": {
    "tags": [],
    "ExecuteTime": {
     "end_time": "2023-10-24T12:46:47.807134400Z",
     "start_time": "2023-10-24T12:46:47.377441100Z"
    }
   },
   "outputs": [
    {
     "name": "stdout",
     "output_type": "stream",
     "text": [
      "Total \"Cheating\" labels in D:/Project_DAP391m_group2/Data/total_dataset_detec/train_detec: 43\n",
      "Total \"Not Cheating\" labels in D:/Project_DAP391m_group2/Data/total_dataset_detec/train_detec: 56\n",
      "Total \"Cheating\" labels in D:/Project_DAP391m_group2/Data/total_dataset_detec/test_detec: 20\n",
      "Total \"Not Cheating\" labels in D:/Project_DAP391m_group2/Data/total_dataset_detec/test_detec: 34\n"
     ]
    }
   ],
   "source": [
    "import os\n",
    "\n",
    "# Đường dẫn đến thư mục chứa dữ liệu\n",
    "data_directories = [\n",
    "    'D:/Project_DAP391m_group2/Data/total_dataset_detec/train_detec',\n",
    "    'D:/Project_DAP391m_group2/Data/total_dataset_detec/test_detec'\n",
    "]\n",
    "\n",
    "# Duyệt qua từng tập dữ liệu\n",
    "for data_dir in data_directories:\n",
    "    cheating_data_dir = os.path.join(data_dir, 'Cheating_Detected')\n",
    "    not_cheating_data_dir = os.path.join(data_dir, 'Not_Cheating_Detected')\n",
    "\n",
    "    cheating_images = [os.path.join(cheating_data_dir, img) for img in os.listdir(cheating_data_dir)]\n",
    "    not_cheating_images = [os.path.join(not_cheating_data_dir, img) for img in os.listdir(not_cheating_data_dir)]\n",
    "\n",
    "    labels = []\n",
    "\n",
    "    # Gán nhãn cho hình ảnh trong thư mục \"Cheating_Detected\"\n",
    "    for img_path in cheating_images:\n",
    "        labels.append(\"cheating\")  # Gán nhãn 'cheating' cho hình ảnh trong thư mục \"Cheating_Detected\"\n",
    "\n",
    "    # Gán nhãn cho hình ảnh trong thư mục \"Not_Cheating_Detected\"\n",
    "    for img_path in not_cheating_images:\n",
    "        labels.append(\"not cheating\")  # Gán nhãn 'not cheating' cho hình ảnh trong thư mục \"Not_Cheating_Detected\"\n",
    "    \n",
    "    num_cheating = labels.count(\"cheating\")\n",
    "    num_not_cheating = labels.count(\"not cheating\")\n",
    "\n",
    "    print(f'Total \"Cheating\" labels in {data_dir}: {num_cheating}')\n",
    "    print(f'Total \"Not Cheating\" labels in {data_dir}: {num_not_cheating}')\n"
   ]
  },
  {
   "cell_type": "code",
   "execution_count": null,
   "outputs": [],
   "source": [],
   "metadata": {
    "collapsed": false
   },
   "id": "52a5136c7864ab78"
  }
 ],
 "metadata": {
  "kernelspec": {
   "display_name": "Python 3 (ipykernel)",
   "language": "python",
   "name": "python3"
  },
  "language_info": {
   "codemirror_mode": {
    "name": "ipython",
    "version": 3
   },
   "file_extension": ".py",
   "mimetype": "text/x-python",
   "name": "python",
   "nbconvert_exporter": "python",
   "pygments_lexer": "ipython3",
   "version": "3.11.4"
  }
 },
 "nbformat": 4,
 "nbformat_minor": 5
}
