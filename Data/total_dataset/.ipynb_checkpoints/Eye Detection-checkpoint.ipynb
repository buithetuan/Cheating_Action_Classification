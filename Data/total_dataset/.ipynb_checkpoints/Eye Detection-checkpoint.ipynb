{
 "cells": [
  {
   "cell_type": "code",
   "execution_count": 2,
   "id": "b978218b-9f19-43c3-be35-8f1f69262eab",
   "metadata": {
    "tags": []
   },
   "outputs": [],
   "source": [
    "import cv2\n",
    "import os"
   ]
  },
  {
   "cell_type": "code",
   "execution_count": 3,
   "id": "b7bbb184-3e56-458e-a07d-1a2ba556e00e",
   "metadata": {
    "tags": []
   },
   "outputs": [],
   "source": [
    "# Đường dẫn thư mục đầu vào\n",
    "input_directory = 'D:\\\\Project_DAP391m_group2\\\\Data\\\\total_dataset\\\\test\\\\Cheating'\n",
    "\n",
    "# Đường dẫn thư mục đầu ra\n",
    "output_directory = 'D:\\\\Project_DAP391m_group2\\\\Data\\\\total_dataset\\\\test\\\\output'"
   ]
  },
  {
   "cell_type": "code",
   "execution_count": 4,
   "id": "8431c213-d14e-424a-ad64-d620c518f30c",
   "metadata": {
    "tags": []
   },
   "outputs": [],
   "source": [
    "# Tạo thư mục đầu ra nếu nó chưa tồn tại\n",
    "os.makedirs(output_directory, exist_ok=True)"
   ]
  },
  {
   "cell_type": "code",
   "execution_count": 8,
   "id": "aaf19b62-3147-4959-9e9c-2c4115b35cd4",
   "metadata": {
    "tags": []
   },
   "outputs": [],
   "source": [
    "# Đọc và xử lý ảnh từ thư mục đầu vào\n",
    "for filename in os.listdir(input_directory):\n",
    "    if filename.endswith(\".jpg\"):\n",
    "        # Đọc ảnh từ thư mục đầu vào\n",
    "        img = cv2.imread(os.path.join(input_directory, filename))\n",
    "\n",
    "        # Chuyển đổi ảnh sang độ xám\n",
    "        gray = cv2.cvtColor(img, cv2.COLOR_BGR2GRAY)\n",
    "\n",
    "        # Đọc haarcascade để phát hiện khuôn mặt trong ảnh\n",
    "        face_cascade = cv2.CascadeClassifier(cv2.data.haarcascades + 'haarcascade_frontalface_default.xml')\n",
    "\n",
    "        # Đọc haarcascade để phát hiện mắt trong ảnh\n",
    "        eye_cascade = cv2.CascadeClassifier(cv2.data.haarcascades + 'haarcascade_eye_tree_eyeglasses.xml')\n",
    "\n",
    "        # Phát hiện khuôn mặt trong ảnh\n",
    "        faces = face_cascade.detectMultiScale(gray, 1.3, 4)\n",
    "\n",
    "        # Lặp qua các khuôn mặt đã phát hiện\n",
    "        for i, (x, y, w, h) in enumerate(faces):\n",
    "            roi_gray = gray[y:y+h, x:x+w]\n",
    "            roi_color = img[y:y+h, x:x+w]\n",
    "\n",
    "            # Phát hiện mắt trong khuôn mặt đã phát hiện\n",
    "            eyes = eye_cascade.detectMultiScale(roi_gray)\n",
    "\n",
    "            # Vẽ hình chữ nhật xung quanh mắt\n",
    "            for (ex, ey, ew, eh) in eyes:\n",
    "                cv2.rectangle(roi_color, (ex, ey), (ex+ew, ey+eh), (0, 255, 255), 2)\n",
    "\n",
    "            # Lưu khuôn mặt và mắt đã phát hiện vào thư mục đầu ra\n",
    "            output_path = os.path.join(output_directory, f'face_{i+1}_{filename}')\n",
    "            cv2.imwrite(output_path, roi_color)"
   ]
  },
  {
   "cell_type": "code",
   "execution_count": 9,
   "id": "4c03b678-154e-4819-8189-cc45f6d08262",
   "metadata": {
    "tags": []
   },
   "outputs": [],
   "source": [
    "# Hiển thị ảnh gốc với khuôn mặt và mắt đã phát hiện\n",
    "cv2.imshow('Khuôn mặt và mắt đã phát hiện', img)\n",
    "cv2.waitKey(0)\n",
    "cv2.destroyAllWindows()"
   ]
  },
  {
   "cell_type": "code",
   "execution_count": null,
   "id": "282524cb-b0e7-4a3f-b07b-f11a781ac4ca",
   "metadata": {},
   "outputs": [],
   "source": []
  }
 ],
 "metadata": {
  "kernelspec": {
   "display_name": "Python 3 (ipykernel)",
   "language": "python",
   "name": "python3"
  },
  "language_info": {
   "codemirror_mode": {
    "name": "ipython",
    "version": 3
   },
   "file_extension": ".py",
   "mimetype": "text/x-python",
   "name": "python",
   "nbconvert_exporter": "python",
   "pygments_lexer": "ipython3",
   "version": "3.11.4"
  }
 },
 "nbformat": 4,
 "nbformat_minor": 5
}
