{
 "cells": [
  {
   "cell_type": "markdown",
   "id": "07fc7824",
   "metadata": {},
   "source": [
    "Detection with dnn"
   ]
  },
  {
   "cell_type": "code",
   "execution_count": 11,
   "id": "b978218b-9f19-43c3-be35-8f1f69262eab",
   "metadata": {
    "tags": []
   },
   "outputs": [],
   "source": [
    "import requests\n",
    "\n",
    "# URL cho các tệp mô hình và cấu hình\n",
    "model_url = \"https://github.com/opencv/opencv_3rdparty/raw/dnn_samples_face_detector_20170830/res10_300x300_ssd_iter_140000.caffemodel\"\n",
    "config_url = \"https://github.com/opencv/opencv/raw/3.4/samples/dnn/face_detector/deploy.prototxt\"\n",
    "\n",
    "# Tải mô hình và tệp cấu hình\n",
    "model_response = requests.get(model_url)\n",
    "config_response = requests.get(config_url)\n",
    "\n",
    "# Lưu mô hình và tệp cấu hình vào ổ đĩa\n",
    "with open(\"res10_300x300_ssd_iter_140000.caffemodel\", \"wb\") as model_file:\n",
    "    model_file.write(model_response.content)\n",
    "\n",
    "with open(\"deploy.prototxt\", \"wb\") as config_file:\n",
    "    config_file.write(config_response.content)\n"
   ]
  },
  {
   "cell_type": "markdown",
   "id": "f0df7e3c",
   "metadata": {},
   "source": []
  },
  {
   "cell_type": "code",
   "execution_count": 3,
   "id": "b7bbb184-3e56-458e-a07d-1a2ba556e00e",
   "metadata": {
    "tags": []
   },
   "outputs": [],
   "source": []
  },
  {
   "cell_type": "code",
   "execution_count": 4,
   "id": "8431c213-d14e-424a-ad64-d620c518f30c",
   "metadata": {
    "tags": []
   },
   "outputs": [],
   "source": [
    "import cv2\n",
    "\n",
    "# Đường dẫn đến tệp mô hình và tệp cấu hình\n",
    "model_path = 'C:\\\\Users\\\\BAO CHAU\\\\OneDrive - Đại học FPT- FPT University\\Desktop\\\\DAP391m\\\\Project_DAP391m_group2-20231013T043105Z-001\\\\Project_DAP391m_group2\\\\Data\\\\total_dataset\\\\res10_300x300_ssd_iter_140000.caffemodel'\n",
    "config_path = 'C:\\\\Users\\\\BAO CHAU\\\\OneDrive - Đại học FPT- FPT University\\Desktop\\\\DAP391m\\\\Project_DAP391m_group2-20231013T043105Z-001\\\\Project_DAP391m_group2\\\\Data\\\\total_dataset\\\\deploy.prototxt'\n",
    "\n",
    "# Tạo một mô hình mạng nơ-ron sâu\n",
    "net = cv2.dnn.readNetFromCaffe(config_path, model_path)\n",
    "\n",
    "# Đọc hình ảnh\n",
    "image = cv2.imread('path_to_image.jpg')\n",
    "\n",
    "# Chuyển đổi ảnh sang định dạng blob\n",
    "blob = cv2.dnn.blobFromImage(cv2.resize(image, (300, 300)), 1.0, (300, 300), (104, 177, 123))\n",
    "\n",
    "# Đưa blob vào mạng để phát hiện khuôn mặt\n",
    "net.setInput(blob)\n",
    "detections = net.forward()\n",
    "\n",
    "# Vẽ hộp xung quanh khuôn mặt đã phát hiện\n",
    "for i in range(detections.shape[2]):\n",
    "    confidence = detections[0, 0, i, 2]\n",
    "    if confidence > 0.5:  # Chọn ngưỡng tin cậy tùy chỉnh\n",
    "        box = detections[0, 0, i, 3:7] * np.array([image.shape[1], image.shape[0], image.shape[1], image.shape[0])\n",
    "        (startX, startY, endX, endY) = box.astype(int)\n",
    "        cv2.rectangle(image, (startX, startY), (endX, endY), (0, 255, 0), 2)\n",
    "\n",
    "# Hiển thị hình ảnh với khuôn mặt đã phát hiện\n",
    "cv2.imshow('Face Detection', image)\n",
    "cv2.waitKey(0)\n",
    "cv2.destroyAllWindows()\n"
   ]
  },
  {
   "cell_type": "code",
   "execution_count": 8,
   "id": "aaf19b62-3147-4959-9e9c-2c4115b35cd4",
   "metadata": {
    "tags": []
   },
   "outputs": [],
   "source": []
  },
  {
   "cell_type": "markdown",
   "id": "2c1ee5b3",
   "metadata": {},
   "source": [
    "Detection with haarcade"
   ]
  },
  {
   "cell_type": "code",
   "execution_count": 6,
   "id": "4c03b678-154e-4819-8189-cc45f6d08262",
   "metadata": {
    "tags": []
   },
   "outputs": [
    {
     "ename": "error",
     "evalue": "OpenCV(4.8.0) D:\\a\\opencv-python\\opencv-python\\opencv\\modules\\objdetect\\src\\cascadedetect.cpp:1689: error: (-215:Assertion failed) !empty() in function 'cv::CascadeClassifier::detectMultiScale'\n",
     "output_type": "error",
     "traceback": [
      "\u001b[1;31m---------------------------------------------------------------------------\u001b[0m",
      "\u001b[1;31merror\u001b[0m                                     Traceback (most recent call last)",
      "\u001b[1;32md:\\Project_DAP391m_group2\\Data\\total_dataset\\Eye Detection.ipynb Cell 8\u001b[0m line \u001b[0;36m1\n\u001b[0;32m     <a href='vscode-notebook-cell:/d%3A/Project_DAP391m_group2/Data/total_dataset/Eye%20Detection.ipynb#W4sZmlsZQ%3D%3D?line=13'>14</a>\u001b[0m eye_cascade \u001b[39m=\u001b[39m cv2\u001b[39m.\u001b[39mCascadeClassifier(\u001b[39m'\u001b[39m\u001b[39mD:\u001b[39m\u001b[39m\\\\\u001b[39;00m\u001b[39mProject_DAP391m_group2\u001b[39m\u001b[39m\\\\\u001b[39;00m\u001b[39mData\u001b[39m\u001b[39m\\\\\u001b[39;00m\u001b[39mtotal_dataset\u001b[39m\u001b[39m\\\\\u001b[39;00m\u001b[39mhaarcascade_eye_tree_eyeglasses.xml\u001b[39m\u001b[39m'\u001b[39m)\n\u001b[0;32m     <a href='vscode-notebook-cell:/d%3A/Project_DAP391m_group2/Data/total_dataset/Eye%20Detection.ipynb#W4sZmlsZQ%3D%3D?line=15'>16</a>\u001b[0m \u001b[39m# detects faces in the input image\u001b[39;00m\n\u001b[1;32m---> <a href='vscode-notebook-cell:/d%3A/Project_DAP391m_group2/Data/total_dataset/Eye%20Detection.ipynb#W4sZmlsZQ%3D%3D?line=16'>17</a>\u001b[0m faces \u001b[39m=\u001b[39m face_cascade\u001b[39m.\u001b[39;49mdetectMultiScale(gray, \u001b[39m1.3\u001b[39;49m, \u001b[39m4\u001b[39;49m)\n\u001b[0;32m     <a href='vscode-notebook-cell:/d%3A/Project_DAP391m_group2/Data/total_dataset/Eye%20Detection.ipynb#W4sZmlsZQ%3D%3D?line=17'>18</a>\u001b[0m \u001b[39mprint\u001b[39m(\u001b[39m'\u001b[39m\u001b[39mNumber of detected faces:\u001b[39m\u001b[39m'\u001b[39m, \u001b[39mlen\u001b[39m(faces))\n\u001b[0;32m     <a href='vscode-notebook-cell:/d%3A/Project_DAP391m_group2/Data/total_dataset/Eye%20Detection.ipynb#W4sZmlsZQ%3D%3D?line=19'>20</a>\u001b[0m \u001b[39m# loop over the detected faces\u001b[39;00m\n",
      "\u001b[1;31merror\u001b[0m: OpenCV(4.8.0) D:\\a\\opencv-python\\opencv-python\\opencv\\modules\\objdetect\\src\\cascadedetect.cpp:1689: error: (-215:Assertion failed) !empty() in function 'cv::CascadeClassifier::detectMultiScale'\n"
     ]
    }
   ],
   "source": [
    "# import required libraries\n",
    "import cv2\n",
    "\n",
    "# read input image\n",
    "img = cv2.imread('D:\\\\Project_DAP391m_group2\\\\Data\\\\total_dataset\\\\processed_dataset\\\\captured_image.jpg')\n",
    "\n",
    "# convert to grayscale of each frames\n",
    "gray = cv2.cvtColor(img, cv2.COLOR_BGR2GRAY)\n",
    "\n",
    "# read the haarcascade to detect the faces in an image\n",
    "face_cascade = cv2.CascadeClassifier('D:\\\\Project_DAP391m_group2\\\\Data\\\\total_dataset\\\\haarcascade_frontalface_default.xml')\n",
    "\n",
    "# read the haarcascade to detect the eyes in an image\n",
    "eye_cascade = cv2.CascadeClassifier('D:\\\\Project_DAP391m_group2\\\\Data\\\\total_dataset\\\\haarcascade_eye_tree_eyeglasses.xml')\n",
    "\n",
    "# detects faces in the input image\n",
    "faces = face_cascade.detectMultiScale(gray, 1.3, 4)\n",
    "print('Number of detected faces:', len(faces))\n",
    "\n",
    "# loop over the detected faces\n",
    "for (x,y,w,h) in faces:\n",
    "   roi_gray = gray[y:y+h, x:x+w]\n",
    "   roi_color = img[y:y+h, x:x+w]\n",
    "   \n",
    "   # detects eyes of within the detected face area (roi)\n",
    "   eyes = eye_cascade.detectMultiScale(roi_gray)\n",
    "   \n",
    "   # draw a rectangle around eyes\n",
    "   for (ex,ey,ew,eh) in eyes:\n",
    "      cv2.rectangle(roi_color,(ex,ey),(ex+ew,ey+eh),(0,255,255),2)\n",
    "\n",
    "# display the image with detected eyes\n",
    "cv2.imshow('Eyes Detection',img)\n",
    "cv2.waitKey(0)\n",
    "cv2.destroyAllWindows()"
   ]
  }
 ],
 "metadata": {
  "kernelspec": {
   "display_name": "Python 3 (ipykernel)",
   "language": "python",
   "name": "python3"
  },
  "language_info": {
   "codemirror_mode": {
    "name": "ipython",
    "version": 3
   },
   "file_extension": ".py",
   "mimetype": "text/x-python",
   "name": "python",
   "nbconvert_exporter": "python",
   "pygments_lexer": "ipython3",
   "version": "3.10.5"
  }
 },
 "nbformat": 4,
 "nbformat_minor": 5
}
