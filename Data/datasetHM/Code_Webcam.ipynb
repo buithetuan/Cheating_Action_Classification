{
 "cells": [
  {
   "cell_type": "code",
   "execution_count": null,
   "id": "d605bc8c",
   "metadata": {},
   "outputs": [],
   "source": [
    "import cv2\n",
    "\n",
    "# Khởi tạo webcam\n",
    "cap = cv2.VideoCapture(0)\n",
    "\n",
    "# Biến đếm số lần chụp ảnh\n",
    "image_counter = 0\n",
    "\n",
    "# Vòng lặp để chụp ảnh liên tục\n",
    "while True:\n",
    "    ret, frame = cap.read()\n",
    "    if ret:\n",
    "        cv2.imshow(\"Webcam\", frame)\n",
    "\n",
    "        # Bấm phím 'c' để chụp ảnh và lưu nó\n",
    "        if cv2.waitKey(1) & 0xFF == ord('c'):\n",
    "            image_filename = f\"captured_image_b{image_counter}.jpg\"\n",
    "            cv2.imwrite(image_filename, frame)\n",
    "            image_counter += 1\n",
    "            print(f\"Ảnh {image_filename} đã được chụp và lưu lại.\")\n",
    "\n",
    "        # Bấm phím 'q' để thoát\n",
    "        if cv2.waitKey(1) & 0xFF == ord('q'):\n",
    "            break\n",
    "\n",
    "# Đóng webcam và cửa sổ hiển thị\n",
    "cap.release()\n",
    "cv2.destroyAllWindows()"
   ]
  },
  {
   "cell_type": "code",
   "execution_count": null,
   "id": "5cea69e5",
   "metadata": {},
   "outputs": [],
   "source": []
  },
  {
   "cell_type": "code",
   "execution_count": null,
   "id": "22135713",
   "metadata": {},
   "outputs": [],
   "source": []
  }
 ],
 "metadata": {
  "kernelspec": {
   "display_name": "Python 3 (ipykernel)",
   "language": "python",
   "name": "python3"
  },
  "language_info": {
   "codemirror_mode": {
    "name": "ipython",
    "version": 3
   },
   "file_extension": ".py",
   "mimetype": "text/x-python",
   "name": "python",
   "nbconvert_exporter": "python",
   "pygments_lexer": "ipython3",
   "version": "3.10.9"
  }
 },
 "nbformat": 4,
 "nbformat_minor": 5
}
